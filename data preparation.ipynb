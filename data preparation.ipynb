{
 "cells": [
  {
   "cell_type": "code",
   "execution_count": 1,
   "id": "de507098",
   "metadata": {},
   "outputs": [
    {
     "name": "stdout",
     "output_type": "stream",
     "text": [
      "X_train: (200, 7)\n",
      "X_test: (51, 7)\n",
      "y_train: (200,)\n",
      "y_test: (51,)\n"
     ]
    }
   ],
   "source": [
    "import pandas as pd\n",
    "from sklearn.preprocessing import StandardScaler, LabelEncoder\n",
    "from sklearn.model_selection import train_test_split\n",
    "\n",
    "# Load CSV with proper delimiter\n",
    "df = pd.read_csv(\"Zara_Sales_Analysis.csv\", delimiter=';')\n",
    "\n",
    "# Drop irrelevant or mostly constant columns\n",
    "columns_to_drop = ['Product ID', 'url', 'sku', 'description', 'brand', 'currency', 'scraped_at', 'terms']\n",
    "df_clean = df.drop(columns=columns_to_drop)\n",
    "\n",
    "# Drop missing values\n",
    "df_clean = df_clean.dropna()\n",
    "\n",
    "# Encode 'name' using label encoding (or drop it if not needed)\n",
    "le = LabelEncoder()\n",
    "df_clean['name'] = le.fit_transform(df_clean['name'])\n",
    "\n",
    "# One-hot encode all categorical columns\n",
    "categorical_cols = ['Product Position', 'Promotion', 'Seasonal', 'section', 'Product Category']\n",
    "df_encoded = pd.get_dummies(df_clean, columns=categorical_cols, drop_first=True)\n",
    "\n",
    "# Define features and target\n",
    "X = df_encoded.drop('Sales Volume', axis=1)\n",
    "y = df_encoded['Sales Volume']\n",
    "\n",
    "# Scale numeric features\n",
    "scaler = StandardScaler()\n",
    "X_scaled = pd.DataFrame(scaler.fit_transform(X), columns=X.columns)\n",
    "\n",
    "# Train/test split\n",
    "X_train, X_test, y_train, y_test = train_test_split(\n",
    "    X_scaled, y, test_size=0.2, random_state=42)\n",
    "\n",
    "# View shapes\n",
    "print(\"X_train:\", X_train.shape)\n",
    "print(\"X_test:\", X_test.shape)\n",
    "print(\"y_train:\", y_train.shape)\n",
    "print(\"y_test:\", y_test.shape)\n"
   ]
  }
 ],
 "metadata": {
  "kernelspec": {
   "display_name": "Python 3",
   "language": "python",
   "name": "python3"
  },
  "language_info": {
   "codemirror_mode": {
    "name": "ipython",
    "version": 3
   },
   "file_extension": ".py",
   "mimetype": "text/x-python",
   "name": "python",
   "nbconvert_exporter": "python",
   "pygments_lexer": "ipython3",
   "version": "3.12.2"
  }
 },
 "nbformat": 4,
 "nbformat_minor": 5
}

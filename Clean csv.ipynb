{
 "cells": [
  {
   "cell_type": "code",
   "execution_count": 1,
   "id": "09f475d5",
   "metadata": {},
   "outputs": [],
   "source": [
    "import pandas as pd\n",
    "\n",
    "# Load\n",
    "df = pd.read_csv('Zara_Sales_Analysis.csv')\n",
    "\n",
    "# Clean\n",
    "df = df.dropna()\n",
    "df = df.drop_duplicates()\n",
    "df.columns = df.columns.str.strip()\n",
    "\n",
    "# Save\n",
    "df.to_csv('cleaned_zara_sales.csv', index=False)\n"
   ]
  }
 ],
 "metadata": {
  "kernelspec": {
   "display_name": "Python 3",
   "language": "python",
   "name": "python3"
  },
  "language_info": {
   "codemirror_mode": {
    "name": "ipython",
    "version": 3
   },
   "file_extension": ".py",
   "mimetype": "text/x-python",
   "name": "python",
   "nbconvert_exporter": "python",
   "pygments_lexer": "ipython3",
   "version": "3.12.2"
  }
 },
 "nbformat": 4,
 "nbformat_minor": 5
}
